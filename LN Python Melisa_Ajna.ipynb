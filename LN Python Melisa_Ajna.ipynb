{
 "cells": [
  {
   "cell_type": "markdown",
   "id": "f9e9bf68",
   "metadata": {},
   "source": [
    "# Leistungsnachweis2 \n",
    "Gruppe: Ajna Aliji & Melisa Dedukic\n",
    "\n",
    "## 1. Fragestellung(en) und Datenbeschaffung\n",
    "### 1.1 \n",
    "- Child mortality\n",
    "### 1.2 Fragestellung:\n",
    "Fragestellungen:\n",
    "1. Wie hat sich die Kindersterblichkeitsrate weltweit über die Jahrzente entwickelt?\n",
    "2. Welche Länder haben derzeit die höchste bzw. niedrigste Kindersterblichkeitsrate?\n",
    "3. Wie unterscheiden sich die Kindersterblichkeitsraten zwischen einkommensstarken und einkommensschwachen Ländern? \n",
    "4. Bei welchen Ländern, stagniert bzw. Steigt die Kindersterblichkeitrate?\n",
    "5. Welche Regionen zeigen den grössten Rückgang in der Kindersterblichkeits?\n",
    "6. Wie unterscheiden sich die Kindersterblichkeitsraten zwischen städtischen und ländlichen Rgionen?  \n",
    "### 1.3 Datenquelle(n):\n",
    "Quellen:\n",
    "- https://childmortality.org/all-cause-mortality/data\n",
    "- https://www.gapminder.org/data/documentation/gd005/  \n",
    "- https://ourworldindata.org/population-sources \n",
    "\n",
    "\n",
    "\n",
    "\n"
   ]
  },
  {
   "cell_type": "markdown",
   "metadata": {},
   "source": [
    "## 1.4 Daten beschaffen und laden"
   ]
  },
  {
   "cell_type": "code",
   "execution_count": 59,
   "id": "fd0ded62",
   "metadata": {},
   "outputs": [],
   "source": [
    "import pandas as pd\n",
    "from matplotlib import pyplot as plt"
   ]
  },
  {
   "cell_type": "code",
   "execution_count": 60,
   "id": "5bbccd5a",
   "metadata": {},
   "outputs": [
    {
     "data": {
      "text/html": [
       "<div>\n",
       "<style scoped>\n",
       "    .dataframe tbody tr th:only-of-type {\n",
       "        vertical-align: middle;\n",
       "    }\n",
       "\n",
       "    .dataframe tbody tr th {\n",
       "        vertical-align: top;\n",
       "    }\n",
       "\n",
       "    .dataframe thead th {\n",
       "        text-align: right;\n",
       "    }\n",
       "</style>\n",
       "<table border=\"1\" class=\"dataframe\">\n",
       "  <thead>\n",
       "    <tr style=\"text-align: right;\">\n",
       "      <th></th>\n",
       "      <th>Entity</th>\n",
       "      <th>Code</th>\n",
       "      <th>Year</th>\n",
       "      <th>Under-five mortality rate</th>\n",
       "    </tr>\n",
       "  </thead>\n",
       "  <tbody>\n",
       "    <tr>\n",
       "      <th>0</th>\n",
       "      <td>Afghanistan</td>\n",
       "      <td>AFG</td>\n",
       "      <td>2014</td>\n",
       "      <td>7.528273</td>\n",
       "    </tr>\n",
       "    <tr>\n",
       "      <th>1</th>\n",
       "      <td>Afghanistan</td>\n",
       "      <td>AFG</td>\n",
       "      <td>2015</td>\n",
       "      <td>7.267698</td>\n",
       "    </tr>\n",
       "    <tr>\n",
       "      <th>2</th>\n",
       "      <td>Afghanistan</td>\n",
       "      <td>AFG</td>\n",
       "      <td>2016</td>\n",
       "      <td>7.023421</td>\n",
       "    </tr>\n",
       "    <tr>\n",
       "      <th>3</th>\n",
       "      <td>Afghanistan</td>\n",
       "      <td>AFG</td>\n",
       "      <td>2017</td>\n",
       "      <td>6.791161</td>\n",
       "    </tr>\n",
       "    <tr>\n",
       "      <th>4</th>\n",
       "      <td>Afghanistan</td>\n",
       "      <td>AFG</td>\n",
       "      <td>2018</td>\n",
       "      <td>6.575211</td>\n",
       "    </tr>\n",
       "  </tbody>\n",
       "</table>\n",
       "</div>"
      ],
      "text/plain": [
       "        Entity Code  Year  Under-five mortality rate\n",
       "0  Afghanistan  AFG  2014                   7.528273\n",
       "1  Afghanistan  AFG  2015                   7.267698\n",
       "2  Afghanistan  AFG  2016                   7.023421\n",
       "3  Afghanistan  AFG  2017                   6.791161\n",
       "4  Afghanistan  AFG  2018                   6.575211"
      ]
     },
     "execution_count": 60,
     "metadata": {},
     "output_type": "execute_result"
    }
   ],
   "source": [
    "# loading the data\n",
    "df = pd.read_csv('child-mortality.csv', skiprows=1,\n",
    "                 names=['Entity','Code','Year','Under-five mortality rate']) \n",
    "df.head()"
   ]
  },
  {
   "cell_type": "markdown",
   "id": "25d1e798",
   "metadata": {},
   "source": [
    "## 2. Daten vorbereiten \n",
    "- Welches Format hat mein Datensatz bzw. wie sind meine Kolumnen strukturiert?\n",
    "- Welches Format kann ich für welche Teilschritte verwenden (wann soll ich pivot bzw. wide format verwenden)?\n",
    "- Welche Datentypen kommen in meinem Datensatz vor?\n",
    "# 2. Daten vorbereiten-> bearbeiten!!!!!\n"
   ]
  },
  {
   "cell_type": "code",
   "execution_count": 53,
   "id": "6750b8c7",
   "metadata": {},
   "outputs": [
    {
     "data": {
      "text/html": [
       "<div>\n",
       "<style scoped>\n",
       "    .dataframe tbody tr th:only-of-type {\n",
       "        vertical-align: middle;\n",
       "    }\n",
       "\n",
       "    .dataframe tbody tr th {\n",
       "        vertical-align: top;\n",
       "    }\n",
       "\n",
       "    .dataframe thead th {\n",
       "        text-align: right;\n",
       "    }\n",
       "</style>\n",
       "<table border=\"1\" class=\"dataframe\">\n",
       "  <thead>\n",
       "    <tr style=\"text-align: right;\">\n",
       "      <th>Year</th>\n",
       "      <th>1751</th>\n",
       "      <th>1752</th>\n",
       "      <th>1753</th>\n",
       "      <th>1754</th>\n",
       "      <th>1755</th>\n",
       "      <th>1756</th>\n",
       "      <th>1757</th>\n",
       "      <th>1758</th>\n",
       "      <th>1759</th>\n",
       "      <th>1760</th>\n",
       "      <th>...</th>\n",
       "      <th>2013</th>\n",
       "      <th>2014</th>\n",
       "      <th>2015</th>\n",
       "      <th>2016</th>\n",
       "      <th>2017</th>\n",
       "      <th>2018</th>\n",
       "      <th>2019</th>\n",
       "      <th>2020</th>\n",
       "      <th>2021</th>\n",
       "      <th>2022</th>\n",
       "    </tr>\n",
       "    <tr>\n",
       "      <th>Entity</th>\n",
       "      <th></th>\n",
       "      <th></th>\n",
       "      <th></th>\n",
       "      <th></th>\n",
       "      <th></th>\n",
       "      <th></th>\n",
       "      <th></th>\n",
       "      <th></th>\n",
       "      <th></th>\n",
       "      <th></th>\n",
       "      <th></th>\n",
       "      <th></th>\n",
       "      <th></th>\n",
       "      <th></th>\n",
       "      <th></th>\n",
       "      <th></th>\n",
       "      <th></th>\n",
       "      <th></th>\n",
       "      <th></th>\n",
       "      <th></th>\n",
       "      <th></th>\n",
       "    </tr>\n",
       "  </thead>\n",
       "  <tbody>\n",
       "    <tr>\n",
       "      <th>Afghanistan</th>\n",
       "      <td>NaN</td>\n",
       "      <td>NaN</td>\n",
       "      <td>NaN</td>\n",
       "      <td>NaN</td>\n",
       "      <td>NaN</td>\n",
       "      <td>NaN</td>\n",
       "      <td>NaN</td>\n",
       "      <td>NaN</td>\n",
       "      <td>NaN</td>\n",
       "      <td>NaN</td>\n",
       "      <td>...</td>\n",
       "      <td>7.815998</td>\n",
       "      <td>7.528273</td>\n",
       "      <td>7.267698</td>\n",
       "      <td>7.023421</td>\n",
       "      <td>6.791161</td>\n",
       "      <td>6.575211</td>\n",
       "      <td>6.361594</td>\n",
       "      <td>6.155799</td>\n",
       "      <td>5.960755</td>\n",
       "      <td>5.767968</td>\n",
       "    </tr>\n",
       "    <tr>\n",
       "      <th>Africa</th>\n",
       "      <td>NaN</td>\n",
       "      <td>NaN</td>\n",
       "      <td>NaN</td>\n",
       "      <td>NaN</td>\n",
       "      <td>NaN</td>\n",
       "      <td>NaN</td>\n",
       "      <td>NaN</td>\n",
       "      <td>NaN</td>\n",
       "      <td>NaN</td>\n",
       "      <td>NaN</td>\n",
       "      <td>...</td>\n",
       "      <td>7.796442</td>\n",
       "      <td>7.577729</td>\n",
       "      <td>7.376779</td>\n",
       "      <td>7.170871</td>\n",
       "      <td>6.982090</td>\n",
       "      <td>6.792204</td>\n",
       "      <td>6.606280</td>\n",
       "      <td>6.420107</td>\n",
       "      <td>6.232287</td>\n",
       "      <td>6.053605</td>\n",
       "    </tr>\n",
       "    <tr>\n",
       "      <th>Albania</th>\n",
       "      <td>NaN</td>\n",
       "      <td>NaN</td>\n",
       "      <td>NaN</td>\n",
       "      <td>NaN</td>\n",
       "      <td>NaN</td>\n",
       "      <td>NaN</td>\n",
       "      <td>NaN</td>\n",
       "      <td>NaN</td>\n",
       "      <td>NaN</td>\n",
       "      <td>NaN</td>\n",
       "      <td>...</td>\n",
       "      <td>1.046844</td>\n",
       "      <td>0.992791</td>\n",
       "      <td>0.957540</td>\n",
       "      <td>0.940036</td>\n",
       "      <td>0.933377</td>\n",
       "      <td>0.934290</td>\n",
       "      <td>0.938541</td>\n",
       "      <td>0.942817</td>\n",
       "      <td>0.945740</td>\n",
       "      <td>0.943802</td>\n",
       "    </tr>\n",
       "    <tr>\n",
       "      <th>Algeria</th>\n",
       "      <td>NaN</td>\n",
       "      <td>NaN</td>\n",
       "      <td>NaN</td>\n",
       "      <td>NaN</td>\n",
       "      <td>NaN</td>\n",
       "      <td>NaN</td>\n",
       "      <td>NaN</td>\n",
       "      <td>NaN</td>\n",
       "      <td>NaN</td>\n",
       "      <td>NaN</td>\n",
       "      <td>...</td>\n",
       "      <td>2.604556</td>\n",
       "      <td>2.566788</td>\n",
       "      <td>2.530254</td>\n",
       "      <td>2.491073</td>\n",
       "      <td>2.447241</td>\n",
       "      <td>2.398036</td>\n",
       "      <td>2.346064</td>\n",
       "      <td>2.291044</td>\n",
       "      <td>2.233761</td>\n",
       "      <td>2.175275</td>\n",
       "    </tr>\n",
       "    <tr>\n",
       "      <th>Andorra</th>\n",
       "      <td>NaN</td>\n",
       "      <td>NaN</td>\n",
       "      <td>NaN</td>\n",
       "      <td>NaN</td>\n",
       "      <td>NaN</td>\n",
       "      <td>NaN</td>\n",
       "      <td>NaN</td>\n",
       "      <td>NaN</td>\n",
       "      <td>NaN</td>\n",
       "      <td>NaN</td>\n",
       "      <td>...</td>\n",
       "      <td>0.393545</td>\n",
       "      <td>0.375111</td>\n",
       "      <td>0.355793</td>\n",
       "      <td>0.339233</td>\n",
       "      <td>0.324281</td>\n",
       "      <td>0.311451</td>\n",
       "      <td>0.299068</td>\n",
       "      <td>0.288192</td>\n",
       "      <td>0.278005</td>\n",
       "      <td>0.268771</td>\n",
       "    </tr>\n",
       "  </tbody>\n",
       "</table>\n",
       "<p>5 rows × 272 columns</p>\n",
       "</div>"
      ],
      "text/plain": [
       "Year         1751  1752  1753  1754  1755  1756  1757  1758  1759  1760  ...  \\\n",
       "Entity                                                                   ...   \n",
       "Afghanistan   NaN   NaN   NaN   NaN   NaN   NaN   NaN   NaN   NaN   NaN  ...   \n",
       "Africa        NaN   NaN   NaN   NaN   NaN   NaN   NaN   NaN   NaN   NaN  ...   \n",
       "Albania       NaN   NaN   NaN   NaN   NaN   NaN   NaN   NaN   NaN   NaN  ...   \n",
       "Algeria       NaN   NaN   NaN   NaN   NaN   NaN   NaN   NaN   NaN   NaN  ...   \n",
       "Andorra       NaN   NaN   NaN   NaN   NaN   NaN   NaN   NaN   NaN   NaN  ...   \n",
       "\n",
       "Year             2013      2014      2015      2016      2017      2018  \\\n",
       "Entity                                                                    \n",
       "Afghanistan  7.815998  7.528273  7.267698  7.023421  6.791161  6.575211   \n",
       "Africa       7.796442  7.577729  7.376779  7.170871  6.982090  6.792204   \n",
       "Albania      1.046844  0.992791  0.957540  0.940036  0.933377  0.934290   \n",
       "Algeria      2.604556  2.566788  2.530254  2.491073  2.447241  2.398036   \n",
       "Andorra      0.393545  0.375111  0.355793  0.339233  0.324281  0.311451   \n",
       "\n",
       "Year             2019      2020      2021      2022  \n",
       "Entity                                               \n",
       "Afghanistan  6.361594  6.155799  5.960755  5.767968  \n",
       "Africa       6.606280  6.420107  6.232287  6.053605  \n",
       "Albania      0.938541  0.942817  0.945740  0.943802  \n",
       "Algeria      2.346064  2.291044  2.233761  2.175275  \n",
       "Andorra      0.299068  0.288192  0.278005  0.268771  \n",
       "\n",
       "[5 rows x 272 columns]"
      ]
     },
     "execution_count": 53,
     "metadata": {},
     "output_type": "execute_result"
    }
   ],
   "source": [
    "df_pivot = df.pivot(index='Entity', columns='Year', values='Under-five mortality rate')\n",
    "df_pivot.head()"
   ]
  },
  {
   "cell_type": "markdown",
   "id": "28195847",
   "metadata": {},
   "source": [
    "## 3. Statistik der Rohdaten (Analyse im Long-Format)\n",
    "- Ist meine Variable kontinuierlich oder diskret? Falls diskret, wieviele einzigartige Klassen gibt es? Wieviele Datenpunkte pro Klasse sind vorhanden?\n",
    "- Anzahl Datenpunkte (Beschreibend und Graphische Darstellung)\n",
    "    - Wieviele Datenpunkte sind für die bestimmten Variabeln vorhanden?\n",
    "    - Wo fehlen Datenpunkte?\n",
    "- Wie ist die Verteilung der zu untersuchenden Variabel(n) (Histogram, Boxplot, Säulendiagram)\n",
    "- Vermutest du Zusammenhänge zwischen zwei Variabeln (Streuungsdiagramm, Korrelationsmatrix)\n",
    "\n",
    "*Notiz: Zu jeder Kolumne sollte generell eine Aussage möglich sein.*"
   ]
  },
  {
   "cell_type": "code",
   "execution_count": 54,
   "id": "5164ad70",
   "metadata": {},
   "outputs": [
    {
     "data": {
      "text/plain": [
       "Entity                        object\n",
       "Code                          object\n",
       "Year                           int64\n",
       "Under-five mortality rate    float64\n",
       "dtype: object"
      ]
     },
     "execution_count": 54,
     "metadata": {},
     "output_type": "execute_result"
    }
   ],
   "source": [
    "df.dtypes"
   ]
  },
  {
   "cell_type": "markdown",
   "id": "31d4f051",
   "metadata": {},
   "source": [
    "### 3.1 Analyse Gebiete"
   ]
  },
  {
   "cell_type": "code",
   "execution_count": 55,
   "id": "996fbc66",
   "metadata": {},
   "outputs": [
    {
     "name": "stdout",
     "output_type": "stream",
     "text": [
      "Anzahl verschiedener Entity:  233\n"
     ]
    }
   ],
   "source": [
    "print('Anzahl verschiedener Entity: ', len(df['Entity'].unique()))"
   ]
  },
  {
   "cell_type": "code",
   "execution_count": 57,
   "id": "71309777",
   "metadata": {},
   "outputs": [
    {
     "data": {
      "text/plain": [
       "Entity\n",
       "Sweden                                       272\n",
       "Austria                                      213\n",
       "France                                       207\n",
       "Belgium                                      189\n",
       "Denmark                                      188\n",
       "                                            ... \n",
       "Lower-middle-income countries                 33\n",
       "South-Eastern Asia (SDG)                      33\n",
       "Southern Asia (SDG)                           33\n",
       "Sub-Saharan Africa (SDG)                      33\n",
       "Eastern Asia and South-Eastern Asia (SDG)     33\n",
       "Name: count, Length: 233, dtype: int64"
      ]
     },
     "execution_count": 57,
     "metadata": {},
     "output_type": "execute_result"
    }
   ],
   "source": [
    "# Anzahl Datenpunkte pro Gebiet\n",
    "df['Entity'].value_counts()"
   ]
  },
  {
   "cell_type": "code",
   "execution_count": 58,
   "id": "77019a8c",
   "metadata": {},
   "outputs": [
    {
     "data": {
      "text/plain": [
       "<Axes: title={'center': 'Anzahl Datenpunkte pro Gebiet'}, xlabel='Entity', ylabel='Anzahl Datenpunkte'>"
      ]
     },
     "execution_count": 58,
     "metadata": {},
     "output_type": "execute_result"
    },
    {
     "data": {
      "image/png": "[encoded data removed]",
      "text/plain": [
       "<Figure size 640x480 with 1 Axes>"
      ]
     },
     "metadata": {},
     "output_type": "display_data"
    }
   ],
   "source": [
    "df['Entity'].value_counts().plot(kind='bar', \n",
    "                                 xticks=[],     # disable labels on x-axis\n",
    "                                 ylabel='Anzahl Datenpunkte', title='Anzahl Datenpunkte pro Gebiet')"
   ]
  },
  {
   "cell_type": "markdown",
   "id": "3b2afd6b",
   "metadata": {},
   "source": [
    "### 3.2 Analyse Codes"
   ]
  },
  {
   "cell_type": "code",
   "execution_count": 61,
   "id": "b6339a91",
   "metadata": {},
   "outputs": [
    {
     "name": "stdout",
     "output_type": "stream",
     "text": [
      "Anzahl verschiedener Codes:  203\n"
     ]
    }
   ],
   "source": [
    "print('Anzahl verschiedener Codes: ', len(df['Code'].unique()))"
   ]
  },
  {
   "cell_type": "code",
   "execution_count": 62,
   "id": "04a33394",
   "metadata": {},
   "outputs": [
    {
     "data": {
      "text/plain": [
       "Code\n",
       "SWE         272\n",
       "AUT         213\n",
       "FRA         207\n",
       "BEL         189\n",
       "DNK         188\n",
       "           ... \n",
       "AIA          38\n",
       "SMR          38\n",
       "AND          38\n",
       "MCO          38\n",
       "OWID_WRL     33\n",
       "Name: count, Length: 202, dtype: int64"
      ]
     },
     "execution_count": 62,
     "metadata": {},
     "output_type": "execute_result"
    }
   ],
   "source": [
    "# Anzahl Datenpunkte pro Gebiet\n",
    "df['Code'].value_counts()"
   ]
  },
  {
   "cell_type": "code",
   "execution_count": 63,
   "id": "6359c2e8",
   "metadata": {},
   "outputs": [
    {
     "data": {
      "image/png": "[encoded data removed]",
      "text/plain": [
       "<Figure size 640x480 with 1 Axes>"
      ]
     },
     "metadata": {},
     "output_type": "display_data"
    }
   ],
   "source": [
    "df['Code'].value_counts().plot(kind='bar',xticks=[], ylabel='Anzahl Datenpunkte', title='Anzahl Datenpunkte pro Code');"
   ]
  },
  {
   "cell_type": "markdown",
   "id": "b620ddd1",
   "metadata": {},
   "source": [
    "### 3.3 Analyse Jahr"
   ]
  },
  {
   "cell_type": "code",
   "execution_count": 40,
   "id": "2f5e21f1",
   "metadata": {},
   "outputs": [
    {
     "name": "stdout",
     "output_type": "stream",
     "text": [
      "Anzahl verschiedener Year:  272\n"
     ]
    }
   ],
   "source": [
    "print('Anzahl verschiedener Year: ', len(df['Year'].unique()))"
   ]
  },
  {
   "cell_type": "code",
   "execution_count": 65,
   "id": "ca5b6d09",
   "metadata": {},
   "outputs": [
    {
     "data": {
      "text/plain": [
       "Year\n",
       "1751      1\n",
       "1752      1\n",
       "1753      1\n",
       "1754      1\n",
       "1755      1\n",
       "       ... \n",
       "2018    232\n",
       "2019    232\n",
       "2020    232\n",
       "2021    232\n",
       "2022    232\n",
       "Name: count, Length: 272, dtype: int64"
      ]
     },
     "execution_count": 65,
     "metadata": {},
     "output_type": "execute_result"
    }
   ],
   "source": [
    "# Anzahl Datenpunkte pro Jahr\n",
    "df['Year'].value_counts().sort_index()"
   ]
  },
  {
   "cell_type": "code",
   "execution_count": 66,
   "id": "2417d1ab",
   "metadata": {},
   "outputs": [
    {
     "name": "stdout",
     "output_type": "stream",
     "text": [
      "Jahre, in denen alle Länder erfasst wurden:\n",
      "Year\n",
      "2003    233\n",
      "2002    233\n",
      "1992    233\n",
      "1993    233\n",
      "1994    233\n",
      "1995    233\n",
      "1996    233\n",
      "1997    233\n",
      "1998    233\n",
      "1999    233\n",
      "2000    233\n",
      "2001    233\n",
      "1991    233\n",
      "1990    233\n",
      "2004    233\n",
      "2005    233\n",
      "2006    233\n",
      "2007    233\n",
      "2008    233\n",
      "2009    233\n",
      "2010    233\n",
      "Name: count, dtype: int64\n"
     ]
    }
   ],
   "source": [
    "total_countries = len(df['Entity'].unique())\n",
    "\n",
    "years_with_all_countries = df['Year'].value_counts()\n",
    "years_with_all_countries = years_with_all_countries[years_with_all_countries == total_countries]\n",
    "print(\"Jahre, in denen alle Länder erfasst wurden:\")\n",
    "print(years_with_all_countries)"
   ]
  },
  {
   "cell_type": "code",
   "execution_count": 67,
   "id": "daa55c29",
   "metadata": {},
   "outputs": [
    {
     "data": {
      "text/plain": [
       "<matplotlib.legend.Legend at 0x2203b507080>"
      ]
     },
     "execution_count": 67,
     "metadata": {},
     "output_type": "execute_result"
    },
    {
     "data": {
      "image/png": "[encoded data removed]",
      "text/plain": [
       "<Figure size 640x480 with 1 Axes>"
      ]
     },
     "metadata": {},
     "output_type": "display_data"
    }
   ],
   "source": [
    "# Jahre mit maximaler Anzahl Datenpunkte (257)\n",
    "g = df['Year'].value_counts().sort_index().plot(ylabel='Anzahl Datenpunkte', title='Anzahl Datenpunkte pro Year');\n",
    "g.axvline(x=1990, color='red',label='1990') # rote Linie bei 1990 - ab hier sind alle Jahre enthalten\n",
    "g.legend()  # Legende anzeigen"
   ]
  },
  {
   "cell_type": "markdown",
   "id": "ab43235e",
   "metadata": {},
   "source": [
    "### 3.4 Analyse Lebenserwartung"
   ]
  },
  {
   "cell_type": "code",
   "execution_count": 44,
   "id": "055e414e",
   "metadata": {},
   "outputs": [
    {
     "data": {
      "text/html": [
       "<div>\n",
       "<style scoped>\n",
       "    .dataframe tbody tr th:only-of-type {\n",
       "        vertical-align: middle;\n",
       "    }\n",
       "\n",
       "    .dataframe tbody tr th {\n",
       "        vertical-align: top;\n",
       "    }\n",
       "\n",
       "    .dataframe thead th {\n",
       "        text-align: right;\n",
       "    }\n",
       "</style>\n",
       "<table border=\"1\" class=\"dataframe\">\n",
       "  <thead>\n",
       "    <tr style=\"text-align: right;\">\n",
       "      <th></th>\n",
       "      <th>Year</th>\n",
       "      <th>Under-five mortality rate</th>\n",
       "    </tr>\n",
       "  </thead>\n",
       "  <tbody>\n",
       "    <tr>\n",
       "      <th>count</th>\n",
       "      <td>17183.000000</td>\n",
       "      <td>17183.000000</td>\n",
       "    </tr>\n",
       "    <tr>\n",
       "      <th>mean</th>\n",
       "      <td>1975.538963</td>\n",
       "      <td>10.386308</td>\n",
       "    </tr>\n",
       "    <tr>\n",
       "      <th>std</th>\n",
       "      <td>40.212128</td>\n",
       "      <td>10.398669</td>\n",
       "    </tr>\n",
       "    <tr>\n",
       "      <th>min</th>\n",
       "      <td>1751.000000</td>\n",
       "      <td>0.146058</td>\n",
       "    </tr>\n",
       "    <tr>\n",
       "      <th>25%</th>\n",
       "      <td>1961.000000</td>\n",
       "      <td>2.173641</td>\n",
       "    </tr>\n",
       "    <tr>\n",
       "      <th>50%</th>\n",
       "      <td>1985.000000</td>\n",
       "      <td>6.395330</td>\n",
       "    </tr>\n",
       "    <tr>\n",
       "      <th>75%</th>\n",
       "      <td>2004.000000</td>\n",
       "      <td>16.118613</td>\n",
       "    </tr>\n",
       "    <tr>\n",
       "      <th>max</th>\n",
       "      <td>2022.000000</td>\n",
       "      <td>68.208000</td>\n",
       "    </tr>\n",
       "  </tbody>\n",
       "</table>\n",
       "</div>"
      ],
      "text/plain": [
       "               Year  Under-five mortality rate\n",
       "count  17183.000000               17183.000000\n",
       "mean    1975.538963                  10.386308\n",
       "std       40.212128                  10.398669\n",
       "min     1751.000000                   0.146058\n",
       "25%     1961.000000                   2.173641\n",
       "50%     1985.000000                   6.395330\n",
       "75%     2004.000000                  16.118613\n",
       "max     2022.000000                  68.208000"
      ]
     },
     "execution_count": 44,
     "metadata": {},
     "output_type": "execute_result"
    }
   ],
   "source": [
    "df.describe()"
   ]
  },
  {
   "cell_type": "code",
   "execution_count": 18,
   "id": "3627ce5e",
   "metadata": {},
   "outputs": [
    {
     "data": {
      "text/plain": [
       "<matplotlib.legend.Legend at 0x220341cd910>"
      ]
     },
     "execution_count": 18,
     "metadata": {},
     "output_type": "execute_result"
    },
    {
     "data": {
      "image/png": "[encoded data removed]",
      "text/plain": [
       "<Figure size 640x480 with 1 Axes>"
      ]
     },
     "metadata": {},
     "output_type": "display_data"
    }
   ],
   "source": [
    "g = df['Under-five mortality rate'].plot(kind='hist', bins=20, title='Histogramm der Under-five mortality rate', \n",
    "                           xlabel='Under-five mortality rate', ylabel='Anzahl Datenpunkte')\n",
    "mean = df['Under-five mortality rate'].mean()\n",
    "g.axvline(x=df['Under-five mortality rate'].mean(), color='red',label=f'Mittelwert = {mean:.2f}')  # rote Linie bei Mittelwert\n",
    "\n",
    "median = df['Under-five mortality rate'].median()\n",
    "g.axvline(x=df['Under-five mortality rate'].median(), color='orange',label=  f'Median = {median:.2f}')  # orange Linie bei Median\n",
    "\n",
    "g.legend()\n"
   ]
  },
  {
   "cell_type": "markdown",
   "id": "bbdf3294",
   "metadata": {},
   "source": [
    "## 4. Analyse \n",
    "\n",
    "### Vorgehen\n",
    "\n",
    "### Beobachtungen\n",
    "\n",
    "### Interpretation\n",
    "- Spezifische Untersuchung der Fragestellung (Berechnungen)\n",
    "- Visualisieren der Resultate: Verwendet Achsenbeschriftung und überlegt euch, welche Art von Darstellung sinnvoll ist (Kuchen-, Säulen, Liniendiagramm; 2 y-Achsen?)\n",
    "- Beschreiben der Beobachtungen\n",
    "- Interpretation der Resultate (Hypothesen zu den Resultaten)\n",
    "- Untermauern der Interpretation mittels Hinweise zur Literatur (Mögliche Zusammenhänge aufzeigen).\n",
    "\n"
   ]
  },
  {
   "cell_type": "markdown",
   "id": "a911de60",
   "metadata": {},
   "source": [
    "### Berechnungen"
   ]
  },
  {
   "cell_type": "code",
   "execution_count": 56,
   "id": "11eb8d3b",
   "metadata": {},
   "outputs": [
    {
     "data": {
      "text/plain": [
       "Entity\n",
       "Sierra Leone   -4.675695\n",
       "Somalia        -4.010715\n",
       "Angola         -3.737656\n",
       "Chad           -3.686804\n",
       "Burkina Faso   -3.314599\n",
       "                  ...   \n",
       "Palau           0.265259\n",
       "Lebanon         0.502895\n",
       "Venezuela       0.676667\n",
       "Fiji            0.701049\n",
       "Dominica        0.754504\n",
       "Length: 232, dtype: float64"
      ]
     },
     "execution_count": 56,
     "metadata": {},
     "output_type": "execute_result"
    }
   ],
   "source": [
    "diffs = df_pivot[2022]-df_pivot[2012]   # Differenz zwischen 2022 und 2012\n",
    "diffs = diffs.sort_values().dropna()  # sortieren nach Differenz und NaN-Werte entfernen\n",
    "diffs"
   ]
  },
  {
   "cell_type": "code",
   "execution_count": 57,
   "id": "0a4bba20",
   "metadata": {},
   "outputs": [
    {
     "data": {
      "text/plain": [
       "<Axes: title={'center': 'Grösste und kleinste Differenzen der Lebenserwartung 2011-2021'}, ylabel='Entity'>"
      ]
     },
     "execution_count": 57,
     "metadata": {},
     "output_type": "execute_result"
    },
    {
     "data": {
      "image/png": "[encoded data removed]",
      "text/plain": [
       "<Figure size 640x480 with 1 Axes>"
      ]
     },
     "metadata": {},
     "output_type": "display_data"
    }
   ],
   "source": [
    "diff_sel = (diffs < -4) | (diffs > 0)  # Auswahl der grössten und kleinsten Differenzen\n",
    "diffs[diff_sel].plot(kind='barh', title='Grösste und kleinste Differenzen der Lebenserwartung 2011-2021')"
   ]
  },
  {
   "cell_type": "code",
   "execution_count": 58,
   "id": "1e1bf832",
   "metadata": {},
   "outputs": [
    {
     "name": "stdout",
     "output_type": "stream",
     "text": [
      "['Sierra Leone', 'Somalia', 'Mauritius', 'Seychelles', 'Cyprus', 'Grenada', 'Cuba', 'Palau', 'Lebanon', 'Venezuela', 'Fiji', 'Dominica']\n"
     ]
    }
   ],
   "source": [
    "Gebiets_liste = diffs[diff_sel].index.tolist()  # Liste der Gebiete mit grössten und kleinsten Differenzen\n",
    "print(Gebiets_liste)"
   ]
  },
  {
   "cell_type": "markdown",
   "id": "50a86efe",
   "metadata": {},
   "source": [
    "### Visualisierung"
   ]
  },
  {
   "cell_type": "code",
   "execution_count": 68,
   "id": "836b75be",
   "metadata": {},
   "outputs": [
    {
     "ename": "NameError",
     "evalue": "name 'Entity_liste' is not defined",
     "output_type": "error",
     "traceback": [
      "\u001b[1;31m---------------------------------------------------------------------------\u001b[0m",
      "\u001b[1;31mNameError\u001b[0m                                 Traceback (most recent call last)",
      "Cell \u001b[1;32mIn[68], line 17\u001b[0m\n\u001b[0;32m      1\u001b[0m color_dict \u001b[38;5;241m=\u001b[39m {\n\u001b[0;32m      2\u001b[0m     \u001b[38;5;124m'\u001b[39m\u001b[38;5;124mSierra Leone\u001b[39m\u001b[38;5;124m'\u001b[39m: \u001b[38;5;124m'\u001b[39m\u001b[38;5;124mblue\u001b[39m\u001b[38;5;124m'\u001b[39m,\n\u001b[0;32m      3\u001b[0m     \u001b[38;5;124m'\u001b[39m\u001b[38;5;124mSomalia\u001b[39m\u001b[38;5;124m'\u001b[39m: \u001b[38;5;124m'\u001b[39m\u001b[38;5;124mcyan\u001b[39m\u001b[38;5;124m'\u001b[39m,\n\u001b[1;32m   (...)\u001b[0m\n\u001b[0;32m     14\u001b[0m     \n\u001b[0;32m     15\u001b[0m }\n\u001b[1;32m---> 17\u001b[0m \u001b[38;5;28;01mfor\u001b[39;00m entity \u001b[38;5;129;01min\u001b[39;00m Entity_liste:\n\u001b[0;32m     18\u001b[0m     diff \u001b[38;5;241m=\u001b[39m diffs[entity]\n\u001b[0;32m     19\u001b[0m     g \u001b[38;5;241m=\u001b[39m df_pivot\u001b[38;5;241m.\u001b[39mloc[entity]\u001b[38;5;241m.\u001b[39mplot(title\u001b[38;5;241m=\u001b[39m\u001b[38;5;124m'\u001b[39m\u001b[38;5;124mUnder-five mortality rate\u001b[39m\u001b[38;5;124m'\u001b[39m, xlabel\u001b[38;5;241m=\u001b[39m\u001b[38;5;124m'\u001b[39m\u001b[38;5;124mYear\u001b[39m\u001b[38;5;124m'\u001b[39m, ylabel\u001b[38;5;241m=\u001b[39m\u001b[38;5;124mf\u001b[39m\u001b[38;5;124m'\u001b[39m\u001b[38;5;124mUnder-five mortality rate\u001b[39m\u001b[38;5;124m'\u001b[39m, legend\u001b[38;5;241m=\u001b[39m\u001b[38;5;28;01mTrue\u001b[39;00m,\n\u001b[0;32m     20\u001b[0m                                   label\u001b[38;5;241m=\u001b[39m\u001b[38;5;124mf\u001b[39m\u001b[38;5;124m'\u001b[39m\u001b[38;5;132;01m{\u001b[39;00mentity\u001b[38;5;132;01m}\u001b[39;00m\u001b[38;5;124m - Diff. 2021-2011: \u001b[39m\u001b[38;5;132;01m{\u001b[39;00mdiff\u001b[38;5;132;01m:\u001b[39;00m\u001b[38;5;124m.2f\u001b[39m\u001b[38;5;132;01m}\u001b[39;00m\u001b[38;5;124m'\u001b[39m, \u001b[38;5;66;03m# für die Legende\u001b[39;00m\n\u001b[0;32m     21\u001b[0m                                   xlim\u001b[38;5;241m=\u001b[39m[\u001b[38;5;241m1980\u001b[39m,\u001b[38;5;241m2025\u001b[39m], ylim\u001b[38;5;241m=\u001b[39m[\u001b[38;5;241m0\u001b[39m,\u001b[38;5;241m80\u001b[39m],   \u001b[38;5;66;03m# x- und y-Achsen begrenzen\u001b[39;00m\n\u001b[0;32m     22\u001b[0m                                   color\u001b[38;5;241m=\u001b[39mcolor_dict[entity],        \u001b[38;5;66;03m# Farbe aus color_dict\u001b[39;00m\n\u001b[0;32m     23\u001b[0m                                   figsize\u001b[38;5;241m=\u001b[39m(\u001b[38;5;241m7\u001b[39m,\u001b[38;5;241m7\u001b[39m))                   \u001b[38;5;66;03m# Grösse des Plots\u001b[39;00m\n",
      "\u001b[1;31mNameError\u001b[0m: name 'Entity_liste' is not defined"
     ]
    }
   ],
   "source": [
    "color_dict = {\n",
    "    'Sierra Leone': 'blue',\n",
    "    'Somalia': 'cyan',\n",
    "    'Mauritius': 'lightgreen',\n",
    "    'Seychelles': 'green',\n",
    "    'Cyprus': 'red',\n",
    "    'Grenada': 'orange',\n",
    "    'Cuba': 'yellow',\n",
    "    'Palau': 'brown',\n",
    "    'Lebanon': 'pink',\n",
    "    'Venezuela': 'purple',\n",
    "    'Fiji': 'darkred',\n",
    "    'Dominica': 'black'\n",
    "    \n",
    "}\n",
    "\n",
    "for entity in Entity_liste:\n",
    "    diff = diffs[entity]\n",
    "    g = df_pivot.loc[entity].plot(title='Under-five mortality rate', xlabel='Year', ylabel=f'Under-five mortality rate', legend=True,\n",
    "                                  label=f'{entity} - Diff. 2021-2011: {diff:.2f}', # für die Legende\n",
    "                                  xlim=[1980,2025], ylim=[0,80],   # x- und y-Achsen begrenzen\n",
    "                                  color=color_dict[entity],        # Farbe aus color_dict\n",
    "                                  figsize=(7,7))                   # Grösse des Plots\n",
    "\n",
    "# Covid Pandemie    \n",
    "g.axvline(x=2020, color='black', linestyle='--') \n",
    "g.text(2020.5, 37, 'Covid')  \n",
    "\n",
    "# HIV Pandemie\n",
    "g.axvline(x=2005, color='black', linestyle='--')  \n",
    "g.text(2005.5, 37, 'HIV');"
   ]
  },
  {
   "cell_type": "code",
   "execution_count": null,
   "id": "19a913e3",
   "metadata": {},
   "outputs": [],
   "source": []
  }
 ],
 "metadata": {
  "kernelspec": {
   "display_name": "base",
   "language": "python",
   "name": "python3"
  },
  "language_info": {
   "codemirror_mode": {
    "name": "ipython",
    "version": 3
   },
   "file_extension": ".py",
   "mimetype": "text/x-python",
   "name": "python",
   "nbconvert_exporter": "python",
   "pygments_lexer": "ipython3",
   "version": "3.12.4"
  }
 },
 "nbformat": 4,
 "nbformat_minor": 5
}
