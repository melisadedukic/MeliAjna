{
 "cells": [
  {
   "cell_type": "markdown",
   "id": "f9e9bf68",
   "metadata": {},
   "source": [
    "# Leistungsnachweis2 \n",
    "Gruppe: Ajna Aliji & Melisa Dedukic\n",
    "\n",
    "## 1. Fragestellung(en) und Datenbeschaffung\n",
    "### 1.1 \n",
    "- Child mortality\n",
    "### 1.2 Fragestellung:\n",
    "Fragestellungen:\n",
    "1. Wie hat sich die Kindersterblichkeitsrate weltweit über die Jahrzente entwickelt?\n",
    "2. Welche Länder haben derzeit die höchste bzw. niedrigste Kindersterblichkeitsrate?\n",
    "3. Wie unterscheiden sich die Kindersterblichkeitsraten zwischen einkommensstarken und einkommensschwachen Ländern? \n",
    "4. Bei welchen Ländern, stagniert bzw. Steigt die Kindersterblichkeitrate?\n",
    "5. Welche Regionen zeigen den grössten Rückgang in der Kindersterblichkeits?\n",
    "6. Wie unterscheiden sich die Kindersterblichkeitsraten zwischen städtischen und ländlichen Rgionen?  \n",
    "### 1.3 Datenquelle(n):\n",
    "Quellen:\n",
    "- https://childmortality.org/all-cause-mortality/data\n",
    "- https://www.gapminder.org/data/documentation/gd005/  \n",
    "- https://ourworldindata.org/population-sources \n",
    "\n",
    "\n",
    "\n",
    "\n"
   ]
  },
  {
   "cell_type": "markdown",
   "metadata": {},
   "source": [
    "### 1.4 Daten beschaffen und laden"
   ]
  },
  {
   "cell_type": "code",
   "execution_count": 2,
   "id": "a27050af",
   "metadata": {},
   "outputs": [],
   "source": [
    "# lade deine Bibliotheken -> Pandas, Seaborn, Matplotlib sind die wichtigsten für diese Aufgaben\n",
    "\n",
    "import pandas as pd\n",
    "import seaborn as sns\n",
    "from matplotlib import pyplot as plt"
   ]
  },
  {
   "cell_type": "code",
   "execution_count": 4,
   "id": "47a24830",
   "metadata": {},
   "outputs": [
    {
     "name": "stdout",
     "output_type": "stream",
     "text": [
      "        Entity Code  Year  Under-five mortality rate\n",
      "0  Afghanistan  AFG  2014                   7.528273\n",
      "1  Afghanistan  AFG  2015                   7.267698\n",
      "2  Afghanistan  AFG  2016                   7.023421\n",
      "3  Afghanistan  AFG  2017                   6.791161\n",
      "4  Afghanistan  AFG  2018                   6.575211\n"
     ]
    }
   ],
   "source": [
    "datei_pfad = \"child-mortality.csv\"\n",
    "daten = pd.read_csv(datei_pfad)\n",
    "\n",
    "print(daten.head())"
   ]
  },
  {
   "cell_type": "markdown",
   "id": "25d1e798",
   "metadata": {},
   "source": [
    "## 2. Daten vorbereiten \n",
    "- Welches Format hat mein Datensatz bzw. wie sind meine Kolumnen strukturiert?\n",
    "- Welches Format kann ich für welche Teilschritte verwenden (wann soll ich pivot bzw. wide format verwenden)?\n",
    "- Welche Datentypen kommen in meinem Datensatz vor?"
   ]
  },
  {
   "cell_type": "code",
   "execution_count": null,
   "id": "7f4fefb8",
   "metadata": {},
   "outputs": [],
   "source": []
  },
  {
   "cell_type": "markdown",
   "id": "28195847",
   "metadata": {},
   "source": [
    "## 3. Statistik der Rohdaten (Analyse im Long-Format)\n",
    "- Ist meine Variable kontinuierlich oder diskret? Falls diskret, wieviele einzigartige Klassen gibt es? Wieviele Datenpunkte pro Klasse sind vorhanden?\n",
    "- Anzahl Datenpunkte (Beschreibend und Graphische Darstellung)\n",
    "    - Wieviele Datenpunkte sind für die bestimmten Variabeln vorhanden?\n",
    "    - Wo fehlen Datenpunkte?\n",
    "- Wie ist die Verteilung der zu untersuchenden Variabel(n) (Histogram, Boxplot, Säulendiagram)\n",
    "- Vermutest du Zusammenhänge zwischen zwei Variabeln (Streuungsdiagramm, Korrelationsmatrix)\n",
    "\n",
    "*Notiz: Zu jeder Kolumne sollte generell eine Aussage möglich sein.*"
   ]
  },
  {
   "cell_type": "code",
   "execution_count": null,
   "id": "6db8081e",
   "metadata": {},
   "outputs": [],
   "source": []
  },
  {
   "cell_type": "markdown",
   "id": "bbdf3294",
   "metadata": {},
   "source": [
    "## 4. Analyse \n",
    "\n",
    "### Vorgehen\n",
    "- Spezifische Untersuchung der Fragestellung (Berechnungen)\n",
    "- Visualisieren der Resultate: Verwendet Achsenbeschriftung und überlegt euch, welche Art von Darstellung sinnvoll ist (Kuchen-, Säulen, Liniendiagramm; 2 y-Achsen?)\n",
    "- Beschreiben der Beobachtungen\n",
    "- Interpretation der Resultate (Hypothesen zu den Resultaten)\n",
    "- Untermauern der Interpretation mittels Hinweise zur Literatur (Mögliche Zusammenhänge aufzeigen).\n",
    "\n"
   ]
  },
  {
   "cell_type": "code",
   "execution_count": null,
   "metadata": {},
   "outputs": [],
   "source": []
  }
 ],
 "metadata": {
  "kernelspec": {
   "display_name": "base",
   "language": "python",
   "name": "python3"
  },
  "language_info": {
   "codemirror_mode": {
    "name": "ipython",
    "version": 3
   },
   "file_extension": ".py",
   "mimetype": "text/x-python",
   "name": "python",
   "nbconvert_exporter": "python",
   "pygments_lexer": "ipython3",
   "version": "3.12.4"
  }
 },
 "nbformat": 4,
 "nbformat_minor": 5
}
